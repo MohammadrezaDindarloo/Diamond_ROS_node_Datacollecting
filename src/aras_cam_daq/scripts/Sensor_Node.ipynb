{
 "cells": [
  {
   "cell_type": "code",
   "execution_count": 5,
   "metadata": {},
   "outputs": [
    {
     "ename": "ImportError",
     "evalue": "No module named daq.msg",
     "output_type": "error",
     "traceback": [
      "\u001b[0;31m---------------------------------------------------------------------------\u001b[0m",
      "\u001b[0;31mImportError\u001b[0m                               Traceback (most recent call last)",
      "\u001b[0;32m<ipython-input-5-0e4acfc51626>\u001b[0m in \u001b[0;36m<module>\u001b[0;34m()\u001b[0m\n\u001b[1;32m      3\u001b[0m \u001b[0;32mimport\u001b[0m \u001b[0msocket\u001b[0m\u001b[0;34m\u001b[0m\u001b[0m\n\u001b[1;32m      4\u001b[0m \u001b[0;32mimport\u001b[0m \u001b[0mstruct\u001b[0m\u001b[0;34m\u001b[0m\u001b[0m\n\u001b[0;32m----> 5\u001b[0;31m \u001b[0;32mfrom\u001b[0m \u001b[0mdaq\u001b[0m\u001b[0;34m.\u001b[0m\u001b[0mmsg\u001b[0m \u001b[0;32mimport\u001b[0m \u001b[0mcdr_data\u001b[0m\u001b[0;34m\u001b[0m\u001b[0m\n\u001b[0m",
      "\u001b[0;31mImportError\u001b[0m: No module named daq.msg"
     ]
    }
   ],
   "source": [
    "#!/usr/bin/env python\n",
    "import rospy\n",
    "import socket\n",
    "import struct\n",
    "from daq.msg import cdr_data"
   ]
  },
  {
   "cell_type": "code",
   "execution_count": 4,
   "metadata": {},
   "outputs": [
    {
     "name": "stdout",
     "output_type": "stream",
     "text": [
      "Help on function now in module rospy.rostime:\n",
      "\n",
      "now()\n",
      "    Create new L{Time} instance representing current time. This\n",
      "    can either be wall-clock time or a simulated clock. It is\n",
      "    strongly recommended that you use the now() factory to create\n",
      "    current time representations instead of reading wall-clock\n",
      "    time and create Time instances from it.\n",
      "    \n",
      "    @return: L{Time} instance for current time\n",
      "    @rtype: L{Time}\n",
      "\n"
     ]
    }
   ],
   "source": []
  },
  {
   "cell_type": "code",
   "execution_count": 2,
   "metadata": {},
   "outputs": [],
   "source": [
    "UDP_IP = \"\"\n",
    "UDP_PORT = 5500\n",
    "sock = socket.socket(socket.AF_INET,socket.SOCK_DGRAM)\n",
    "sock.bind((UDP_IP, UDP_PORT))\n",
    "msg = cdr_data()"
   ]
  },
  {
   "cell_type": "code",
   "execution_count": null,
   "metadata": {},
   "outputs": [
    {
     "name": "stderr",
     "output_type": "stream",
     "text": [
      "[WARN] [1575653843.152641]: Inbound TCP/IP connection failed: connection from sender terminated before handshake header received. 0 bytes were received. Please check sender for additional details.\n"
     ]
    }
   ],
   "source": [
    "def aras_daq_system():\n",
    "    rospy.init_node('ARAS_DAQ')\n",
    "    pub = rospy.Publisher('daq', cdr_data, queue_size=1)\n",
    "    while not rospy.is_shutdown():\n",
    "        data, addr = sock.recvfrom(96)\n",
    "        acx, acy, acz, gyx, gyy, gyz, mgx, mgy, mgz, encn, enc1, enc2, enc3, enc4, f1, f2, f3, f4, IMU_TimeStamp, RPU_TimeStamp, CAM_TimeStamp=struct.unpack('18i3I', data)\n",
    "        msg.header.stamp = rospy.Time.now()\n",
    "        msg.linear_acceleration.x = acx\n",
    "        msg.linear_acceleration.y = acy\n",
    "        msg.linear_acceleration.z = acz\n",
    "        msg.angular_velocity.x = gyx\n",
    "        msg.angular_velocity.y = gyy\n",
    "        msg.angular_velocity.z = gyz\n",
    "        msg.mag.x = mgx\n",
    "        msg.mag.y = mgy\n",
    "        msg.mag.z = mgz\n",
    "        msg.knob = encn\n",
    "        msg.encoders = [enc1, enc2, enc3, enc4]\n",
    "        msg.forces = [f1, f2, f3, f4]\n",
    "        msg.TS = [IMU_TimeStamp, RPU_TimeStamp, CAM_TimeStamp]\n",
    "        pub.publish(msg)\n",
    "\n",
    "if __name__=='__main__':\n",
    "    try:\n",
    "        aras_daq_system()\n",
    "    except rospy.ROSInterruptException:\n",
    "        pass"
   ]
  },
  {
   "cell_type": "code",
   "execution_count": null,
   "metadata": {},
   "outputs": [],
   "source": []
  }
 ],
 "metadata": {
  "kernelspec": {
   "display_name": "Python 2",
   "language": "python",
   "name": "python2"
  },
  "language_info": {
   "codemirror_mode": {
    "name": "ipython",
    "version": 2
   },
   "file_extension": ".py",
   "mimetype": "text/x-python",
   "name": "python",
   "nbconvert_exporter": "python",
   "pygments_lexer": "ipython2",
   "version": "2.7.12"
  },
  "latex_envs": {
   "LaTeX_envs_menu_present": true,
   "autoclose": false,
   "autocomplete": true,
   "bibliofile": "biblio.bib",
   "cite_by": "apalike",
   "current_citInitial": 1,
   "eqLabelWithNumbers": true,
   "eqNumInitial": 1,
   "hotkeys": {
    "equation": "Ctrl-E",
    "itemize": "Ctrl-I"
   },
   "labels_anchors": false,
   "latex_user_defs": false,
   "report_style_numbering": false,
   "user_envs_cfg": false
  },
  "toc": {
   "base_numbering": 1,
   "nav_menu": {},
   "number_sections": true,
   "sideBar": true,
   "skip_h1_title": false,
   "title_cell": "Table of Contents",
   "title_sidebar": "Contents",
   "toc_cell": false,
   "toc_position": {},
   "toc_section_display": true,
   "toc_window_display": false
  }
 },
 "nbformat": 4,
 "nbformat_minor": 2
}
